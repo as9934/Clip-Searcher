{
 "cells": [
  {
   "cell_type": "code",
   "execution_count": 12,
   "id": "db22a18b",
   "metadata": {},
   "outputs": [],
   "source": [
    "from sklearn.metrics import precision_score\n",
    "from sklearn.metrics import recall_score\n",
    "from sklearn.metrics import f1_score\n",
    "from sklearn.metrics import accuracy_score\n",
    "import pandas as pd"
   ]
  },
  {
   "cell_type": "code",
   "execution_count": 14,
   "id": "e300a574",
   "metadata": {},
   "outputs": [
    {
     "data": {
      "text/plain": [
       "1048"
      ]
     },
     "execution_count": 14,
     "metadata": {},
     "output_type": "execute_result"
    }
   ],
   "source": [
    "nodes = pd.read_csv('nodes.csv')\n",
    "len(nodes.loc[nodes['correct'] == 1])"
   ]
  },
  {
   "cell_type": "code",
   "execution_count": 16,
   "id": "751a98ea",
   "metadata": {},
   "outputs": [
    {
     "name": "stdout",
     "output_type": "stream",
     "text": [
      "0.7267683772538142\n",
      "0.7267683772538142\n",
      "1.0\n",
      "0.8417670682730923\n"
     ]
    }
   ],
   "source": [
    "print(accuracy_score(nodes['correct'], nodes['one_column']))\n",
    "print(precision_score(nodes['correct'], nodes['one_column']))\n",
    "print(recall_score(nodes['correct'], nodes['one_column']))\n",
    "print(f1_score(nodes['correct'], nodes['one_column']))"
   ]
  },
  {
   "cell_type": "code",
   "execution_count": 22,
   "id": "88abfdb2",
   "metadata": {},
   "outputs": [
    {
     "data": {
      "text/plain": [
       "346"
      ]
     },
     "execution_count": 22,
     "metadata": {},
     "output_type": "execute_result"
    }
   ],
   "source": [
    "peeps = nodes.loc[nodes['label'] == 'PERSON']\n",
    "len(peeps.loc[peeps['correct'] == 1])"
   ]
  },
  {
   "cell_type": "code",
   "execution_count": 23,
   "id": "c5d5a657",
   "metadata": {},
   "outputs": [
    {
     "name": "stdout",
     "output_type": "stream",
     "text": [
      "0.6290909090909091\n",
      "0.6290909090909091\n",
      "1.0\n",
      "0.7723214285714286\n"
     ]
    }
   ],
   "source": [
    "print(accuracy_score(peeps['correct'], peeps['one_column']))\n",
    "print(precision_score(peeps['correct'], peeps['one_column']))\n",
    "print(recall_score(peeps['correct'], peeps['one_column']))\n",
    "print(f1_score(peeps['correct'], peeps['one_column']))"
   ]
  },
  {
   "cell_type": "code",
   "execution_count": 29,
   "id": "31e3e1c0",
   "metadata": {},
   "outputs": [
    {
     "name": "stdout",
     "output_type": "stream",
     "text": [
      "346\n"
     ]
    },
    {
     "data": {
      "text/plain": [
       "211"
      ]
     },
     "execution_count": 29,
     "metadata": {},
     "output_type": "execute_result"
    }
   ],
   "source": [
    "links =  pd.read_csv('links.csv')\n",
    "print(len(links))\n",
    "len(links.loc[((links['correct1'] == 1) & (links['correct2'] == 1))])"
   ]
  }
 ],
 "metadata": {
  "kernelspec": {
   "display_name": "Python [conda env:anlp_spacy2] *",
   "language": "python",
   "name": "conda-env-anlp_spacy2-py"
  },
  "language_info": {
   "codemirror_mode": {
    "name": "ipython",
    "version": 3
   },
   "file_extension": ".py",
   "mimetype": "text/x-python",
   "name": "python",
   "nbconvert_exporter": "python",
   "pygments_lexer": "ipython3",
   "version": "3.7.11"
  }
 },
 "nbformat": 4,
 "nbformat_minor": 5
}
